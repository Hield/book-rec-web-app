{
 "cells": [
  {
   "cell_type": "code",
   "execution_count": 25,
   "metadata": {},
   "outputs": [
    {
     "name": "stdout",
     "output_type": "stream",
     "text": [
      "The autoreload extension is already loaded. To reload it, use:\n",
      "  %reload_ext autoreload\n"
     ]
    }
   ],
   "source": [
    "%matplotlib inline\n",
    "%load_ext autoreload\n",
    "%autoreload 2\n",
    "\n",
    "import pandas as pd\n",
    "import numpy as np\n",
    "import feather"
   ]
  },
  {
   "cell_type": "code",
   "execution_count": 60,
   "metadata": {},
   "outputs": [],
   "source": [
    "# Copy from notebook 3.\n",
    "class Evaluator():\n",
    "    def __init__(self, k=10, training_set=None, testing_set=None):\n",
    "        self.k = k\n",
    "        self.training_set = training_set\n",
    "        self.testing_set = testing_set\n",
    "        self.result = {}\n",
    "    \n",
    "    def _precision(self):\n",
    "        precisions = np.array([])\n",
    "        for user_id in self.preds.columns:\n",
    "            pred = self.preds[user_id]\n",
    "            truth = self.testing_set[self.testing_set.user_id==user_id].book_id\n",
    "            precisions = np.append(precisions, np.in1d(pred, truth).sum() / self.k)\n",
    "        return precisions.mean()\n",
    "    \n",
    "    def _recall(self):\n",
    "        recalls = np.array([])\n",
    "        for user_id in self.preds.columns:\n",
    "            pred = self.preds[user_id]\n",
    "            truth = self.testing_set[self.testing_set.user_id==user_id].book_id\n",
    "            recalls = np.append(recalls, np.in1d(pred, truth).sum() / truth.count())\n",
    "        return recalls.mean()\n",
    "    \n",
    "    def evaluate(self, model):\n",
    "        model.fit(self.training_set)\n",
    "        self.preds = model.recommendation()\n",
    "        self.result['precision'] = self._precision()\n",
    "        self.result['recall'] = self._recall()\n",
    "        \n",
    "    def print_result(self):\n",
    "        print(self.result)"
   ]
  },
  {
   "cell_type": "code",
   "execution_count": 3,
   "metadata": {},
   "outputs": [
    {
     "data": {
      "text/plain": [
       "((9590, 23), (97889, 3), (12445, 3))"
      ]
     },
     "execution_count": 3,
     "metadata": {},
     "output_type": "execute_result"
    }
   ],
   "source": [
    "# Import the data\n",
    "books = feather.read_dataframe('./data/books_small')\n",
    "training_ratings = feather.read_dataframe('./data/training_ratings')\n",
    "testing_ratings = feather.read_dataframe('./data/testing_ratings')\n",
    "(books.shape, training_ratings.shape, testing_ratings.shape)"
   ]
  },
  {
   "cell_type": "markdown",
   "metadata": {},
   "source": [
    "# Random Recommender"
   ]
  },
  {
   "cell_type": "code",
   "execution_count": 48,
   "metadata": {},
   "outputs": [],
   "source": [
    "class RandomRecommender():\n",
    "    def fit(self, training_ratings, excluded_book_ids=None):\n",
    "        self.user_ids = training_ratings.user_id.unique().tolist()\n",
    "        self.book_ids = training_ratings.book_id.unique().tolist()\n",
    "        if excluded_book_ids == None:\n",
    "            self.books_excluded_for_user = {user_id: training_ratings[training_ratings.user_id==user_id].book_id.unique().tolist() for user_id in self.user_ids}\n",
    "        else:\n",
    "            self.books_excluded_for_user = excluded_book_ids\n",
    "        self.preds = pd.DataFrame()\n",
    "        \n",
    "    def recommendation_for_user(self, user_id):\n",
    "        np.random.seed(42)\n",
    "        if user_id not in self.preds:\n",
    "            self.preds[user_id] = np.random.choice(np.setdiff1d(self.book_ids, self.books_excluded_for_user[user_id]), 10, replace=False)\n",
    "        return self.preds[user_id]\n",
    "    \n",
    "    def recommendation(self):\n",
    "        for user_id in self.user_ids:\n",
    "            if user_id not in self.preds:\n",
    "                self.preds[user_id] = self.recommendation_for_user(user_id)  \n",
    "        return self.preds"
   ]
  },
  {
   "cell_type": "code",
   "execution_count": 61,
   "metadata": {},
   "outputs": [],
   "source": [
    "evl = Evaluator(k=10, training_set=training_ratings, testing_set=testing_ratings)\n",
    "rd_rec = RandomRecommender()"
   ]
  },
  {
   "cell_type": "code",
   "execution_count": 62,
   "metadata": {},
   "outputs": [],
   "source": [
    "evl.evaluate(rd_rec)"
   ]
  },
  {
   "cell_type": "code",
   "execution_count": 63,
   "metadata": {},
   "outputs": [
    {
     "name": "stdout",
     "output_type": "stream",
     "text": [
      "{'precision': 0.0017293997965412006, 'recall': 0.001079580456620326}\n"
     ]
    }
   ],
   "source": [
    "evl.print_result()"
   ]
  },
  {
   "cell_type": "markdown",
   "metadata": {},
   "source": [
    "# Popular-based Recommender"
   ]
  },
  {
   "cell_type": "markdown",
   "metadata": {},
   "source": [
    "IMDb formula:\n",
    "\n",
    "Popularity weighted rating = (v ÷ (v+m)) × R + (m ÷ (v+m)) × C\n",
    "\n",
    "Where: \n",
    "\n",
    "R = average for the movie (mean) = (rating)\n",
    "\n",
    "v = number of votes for the movie = (votes)\n",
    "\n",
    "m = minimum votes required to be listed in the Top Rated list \n",
    "\n",
    "C = the mean vote across the whole report\n"
   ]
  },
  {
   "cell_type": "code",
   "execution_count": 85,
   "metadata": {},
   "outputs": [
    {
     "name": "stderr",
     "output_type": "stream",
     "text": [
      "C:\\Users\\abc\\AppData\\Local\\conda\\conda\\envs\\fastai\\lib\\site-packages\\ipykernel_launcher.py:11: SettingWithCopyWarning: \n",
      "A value is trying to be set on a copy of a slice from a DataFrame.\n",
      "Try using .loc[row_indexer,col_indexer] = value instead\n",
      "\n",
      "See the caveats in the documentation: http://pandas.pydata.org/pandas-docs/stable/indexing.html#indexing-view-versus-copy\n",
      "  # This is added back by InteractiveShellApp.init_path()\n"
     ]
    }
   ],
   "source": [
    "C = books.average_rating.mean()\n",
    "m = books.ratings_count.quantile(0.95)\n",
    "\n",
    "top_books = books[books.ratings_count > m]\n",
    "\n",
    "def weighted_rating(x):\n",
    "    v = x.ratings_count\n",
    "    R = x.average_rating\n",
    "    return (v/(v+m) * R) + (m/(m+v) * C)\n",
    "\n",
    "top_books['weighted_rating'] = top_books.apply(weighted_rating, axis=1)"
   ]
  },
  {
   "cell_type": "code",
   "execution_count": 91,
   "metadata": {},
   "outputs": [
    {
     "name": "stderr",
     "output_type": "stream",
     "text": [
      "C:\\Users\\abc\\AppData\\Local\\conda\\conda\\envs\\fastai\\lib\\site-packages\\ipykernel_launcher.py:1: SettingWithCopyWarning: \n",
      "A value is trying to be set on a copy of a slice from a DataFrame\n",
      "\n",
      "See the caveats in the documentation: http://pandas.pydata.org/pandas-docs/stable/indexing.html#indexing-view-versus-copy\n",
      "  \"\"\"Entry point for launching an IPython kernel.\n"
     ]
    }
   ],
   "source": [
    "top_books.sort_values(by=['weighted_rating'], ascending=False, inplace=True)"
   ]
  },
  {
   "cell_type": "markdown",
   "metadata": {},
   "source": [
    "So we came up with 10 most popular books to recommend"
   ]
  },
  {
   "cell_type": "code",
   "execution_count": 92,
   "metadata": {
    "scrolled": true
   },
   "outputs": [
    {
     "data": {
      "text/html": [
       "<div>\n",
       "<style scoped>\n",
       "    .dataframe tbody tr th:only-of-type {\n",
       "        vertical-align: middle;\n",
       "    }\n",
       "\n",
       "    .dataframe tbody tr th {\n",
       "        vertical-align: top;\n",
       "    }\n",
       "\n",
       "    .dataframe thead th {\n",
       "        text-align: right;\n",
       "    }\n",
       "</style>\n",
       "<table border=\"1\" class=\"dataframe\">\n",
       "  <thead>\n",
       "    <tr style=\"text-align: right;\">\n",
       "      <th></th>\n",
       "      <th>book_id</th>\n",
       "      <th>title</th>\n",
       "      <th>weighted_rating</th>\n",
       "    </tr>\n",
       "  </thead>\n",
       "  <tbody>\n",
       "    <tr>\n",
       "      <th>24</th>\n",
       "      <td>25</td>\n",
       "      <td>Harry Potter and the Deathly Hallows (Harry Po...</td>\n",
       "      <td>4.554188</td>\n",
       "    </tr>\n",
       "    <tr>\n",
       "      <th>26</th>\n",
       "      <td>27</td>\n",
       "      <td>Harry Potter and the Half-Blood Prince (Harry ...</td>\n",
       "      <td>4.488800</td>\n",
       "    </tr>\n",
       "    <tr>\n",
       "      <th>17</th>\n",
       "      <td>18</td>\n",
       "      <td>Harry Potter and the Prisoner of Azkaban (Harr...</td>\n",
       "      <td>4.483602</td>\n",
       "    </tr>\n",
       "    <tr>\n",
       "      <th>23</th>\n",
       "      <td>24</td>\n",
       "      <td>Harry Potter and the Goblet of Fire (Harry Pot...</td>\n",
       "      <td>4.481684</td>\n",
       "    </tr>\n",
       "    <tr>\n",
       "      <th>1</th>\n",
       "      <td>2</td>\n",
       "      <td>Harry Potter and the Sorcerer's Stone (Harry P...</td>\n",
       "      <td>4.423813</td>\n",
       "    </tr>\n",
       "    <tr>\n",
       "      <th>20</th>\n",
       "      <td>21</td>\n",
       "      <td>Harry Potter and the Order of the Phoenix (Har...</td>\n",
       "      <td>4.417691</td>\n",
       "    </tr>\n",
       "    <tr>\n",
       "      <th>30</th>\n",
       "      <td>31</td>\n",
       "      <td>The Help</td>\n",
       "      <td>4.403680</td>\n",
       "    </tr>\n",
       "    <tr>\n",
       "      <th>38</th>\n",
       "      <td>39</td>\n",
       "      <td>A Game of Thrones (A Song of Ice and Fire, #1)</td>\n",
       "      <td>4.397096</td>\n",
       "    </tr>\n",
       "    <tr>\n",
       "      <th>134</th>\n",
       "      <td>135</td>\n",
       "      <td>A Storm of Swords (A Song of Ice and Fire, #3)</td>\n",
       "      <td>4.392810</td>\n",
       "    </tr>\n",
       "    <tr>\n",
       "      <th>421</th>\n",
       "      <td>422</td>\n",
       "      <td>Harry Potter Boxset (Harry Potter, #1-7)</td>\n",
       "      <td>4.384479</td>\n",
       "    </tr>\n",
       "  </tbody>\n",
       "</table>\n",
       "</div>"
      ],
      "text/plain": [
       "     book_id                                              title  \\\n",
       "24        25  Harry Potter and the Deathly Hallows (Harry Po...   \n",
       "26        27  Harry Potter and the Half-Blood Prince (Harry ...   \n",
       "17        18  Harry Potter and the Prisoner of Azkaban (Harr...   \n",
       "23        24  Harry Potter and the Goblet of Fire (Harry Pot...   \n",
       "1          2  Harry Potter and the Sorcerer's Stone (Harry P...   \n",
       "20        21  Harry Potter and the Order of the Phoenix (Har...   \n",
       "30        31                                           The Help   \n",
       "38        39     A Game of Thrones (A Song of Ice and Fire, #1)   \n",
       "134      135     A Storm of Swords (A Song of Ice and Fire, #3)   \n",
       "421      422           Harry Potter Boxset (Harry Potter, #1-7)   \n",
       "\n",
       "     weighted_rating  \n",
       "24          4.554188  \n",
       "26          4.488800  \n",
       "17          4.483602  \n",
       "23          4.481684  \n",
       "1           4.423813  \n",
       "20          4.417691  \n",
       "30          4.403680  \n",
       "38          4.397096  \n",
       "134         4.392810  \n",
       "421         4.384479  "
      ]
     },
     "execution_count": 92,
     "metadata": {},
     "output_type": "execute_result"
    }
   ],
   "source": [
    "top_books.head(10)[['book_id', 'title', 'weighted_rating']]"
   ]
  },
  {
   "cell_type": "code",
   "execution_count": 94,
   "metadata": {},
   "outputs": [],
   "source": [
    "class PopularityRecommender():\n",
    "    def fit(self, training_ratings, excluded_book_ids=None):\n",
    "        # Probably add the process of creating the list here\n",
    "        self.user_ids = training_ratings.user_id.unique().tolist()\n",
    "        self.preds = pd.DataFrame()\n",
    "        \n",
    "    def recommendation_for_user(self, user_id):\n",
    "        return top_books.head(10).book_id.tolist()\n",
    "    \n",
    "    def recommendation(self):\n",
    "        for user_id in self.user_ids:\n",
    "            if user_id not in self.preds:\n",
    "                self.preds[user_id] = self.recommendation_for_user(user_id)  \n",
    "        return self.preds"
   ]
  },
  {
   "cell_type": "code",
   "execution_count": 95,
   "metadata": {},
   "outputs": [],
   "source": [
    "evl = Evaluator(k=10, training_set=training_ratings, testing_set=testing_ratings)\n",
    "pop_rec = PopularityRecommender()"
   ]
  },
  {
   "cell_type": "code",
   "execution_count": 96,
   "metadata": {},
   "outputs": [],
   "source": [
    "evl.evaluate(pop_rec)"
   ]
  },
  {
   "cell_type": "code",
   "execution_count": 97,
   "metadata": {},
   "outputs": [
    {
     "name": "stdout",
     "output_type": "stream",
     "text": [
      "{'precision': 0.04821973550356053, 'recall': 0.04170457844159438}\n"
     ]
    }
   ],
   "source": [
    "evl.print_result()"
   ]
  },
  {
   "cell_type": "code",
   "execution_count": 98,
   "metadata": {},
   "outputs": [
    {
     "data": {
      "text/plain": [
       "Index(['book_id', 'goodreads_book_id', 'best_book_id', 'work_id',\n",
       "       'books_count', 'isbn', 'isbn13', 'authors', 'original_publication_year',\n",
       "       'original_title', 'title', 'language_code', 'average_rating',\n",
       "       'ratings_count', 'work_ratings_count', 'work_text_reviews_count',\n",
       "       'ratings_1', 'ratings_2', 'ratings_3', 'ratings_4', 'ratings_5',\n",
       "       'image_url', 'small_image_url'],\n",
       "      dtype='object')"
      ]
     },
     "execution_count": 98,
     "metadata": {},
     "output_type": "execute_result"
    }
   ],
   "source": [
    "books.columns"
   ]
  }
 ],
 "metadata": {
  "kernelspec": {
   "display_name": "Python 3",
   "language": "python",
   "name": "python3"
  },
  "language_info": {
   "codemirror_mode": {
    "name": "ipython",
    "version": 3
   },
   "file_extension": ".py",
   "mimetype": "text/x-python",
   "name": "python",
   "nbconvert_exporter": "python",
   "pygments_lexer": "ipython3",
   "version": "3.6.7"
  }
 },
 "nbformat": 4,
 "nbformat_minor": 2
}
