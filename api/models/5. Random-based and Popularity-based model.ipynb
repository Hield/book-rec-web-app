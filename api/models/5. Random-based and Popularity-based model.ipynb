{
 "cells": [
  {
   "cell_type": "code",
   "execution_count": 3,
   "metadata": {},
   "outputs": [
    {
     "name": "stdout",
     "output_type": "stream",
     "text": [
      "The autoreload extension is already loaded. To reload it, use:\n",
      "  %reload_ext autoreload\n"
     ]
    }
   ],
   "source": [
    "%matplotlib inline\n",
    "%load_ext autoreload\n",
    "%autoreload 2\n",
    "\n",
    "import pandas as pd\n",
    "import numpy as np\n",
    "import feather"
   ]
  },
  {
   "cell_type": "code",
   "execution_count": 82,
   "metadata": {},
   "outputs": [],
   "source": [
    "# Copy from notebook 3.\n",
    "class Evaluator():\n",
    "    def __init__(self, k=10, training_set=None, testing_set=None):\n",
    "        self.k = k\n",
    "        self.training_set = training_set\n",
    "        self.testing_set = testing_set\n",
    "        self.result = {}\n",
    "    \n",
    "    def _precision(self):\n",
    "        precisions = np.array([])\n",
    "        for user_id in self.preds.columns:\n",
    "            pred = self.preds[user_id]\n",
    "            truth = self.testing_set[self.testing_set.user_id==user_id].book_id\n",
    "            precisions = np.append(precisions, np.in1d(pred, truth).sum() / self.k)\n",
    "        return precisions.mean()\n",
    "    \n",
    "    def _recall(self):\n",
    "        recalls = np.array([])\n",
    "        for user_id in self.preds.columns:\n",
    "            pred = self.preds[user_id]\n",
    "            truth = self.testing_set[self.testing_set.user_id==user_id].book_id\n",
    "            recalls = np.append(recalls, np.in1d(pred, truth).sum() / truth.count())\n",
    "        return recalls.mean()\n",
    "    \n",
    "    def evaluate(self, model):\n",
    "        model.fit(self.training_set)\n",
    "        self.preds = model.recommendation()\n",
    "        self.result['precision'] = self._precision()\n",
    "        self.result['recall'] = self._recall()\n",
    "        \n",
    "    def print_result(self):\n",
    "        print(self.result)"
   ]
  },
  {
   "cell_type": "code",
   "execution_count": 9,
   "metadata": {},
   "outputs": [
    {
     "data": {
      "text/plain": [
       "((9590, 23), (97889, 3), (12445, 3))"
      ]
     },
     "execution_count": 9,
     "metadata": {},
     "output_type": "execute_result"
    }
   ],
   "source": [
    "# Import the data\n",
    "books = feather.read_dataframe('./data/books_small')\n",
    "training_ratings = feather.read_dataframe('./data/training_ratings')\n",
    "testing_ratings = feather.read_dataframe('./data/testing_ratings')\n",
    "(books.shape, training_ratings.shape, testing_ratings.shape)"
   ]
  },
  {
   "cell_type": "code",
   "execution_count": 78,
   "metadata": {},
   "outputs": [],
   "source": [
    "class RandomRecommender():  \n",
    "    def fit(self, training_ratings):\n",
    "        self.user_ids = training_ratings.user_id.unique().tolist()\n",
    "        self.book_ids = training_ratings.book_id.unique().tolist()\n",
    "        np.random.seed(42)\n",
    "        self.preds = pd.DataFrame()\n",
    "        for user_id in self.user_ids:\n",
    "            self.preds[user_id] = np.random.choice(self.book_ids, 10, replace=False)\n",
    "        \n",
    "    def recommend_to_user(self, user_id):\n",
    "        return self.preds[user_id]\n",
    "    \n",
    "    def recommendation(self):\n",
    "        return self.preds"
   ]
  },
  {
   "cell_type": "code",
   "execution_count": 79,
   "metadata": {},
   "outputs": [],
   "source": [
    "rd_rec = RandomRecommender()\n",
    "rd_rec.fit(training_ratings)"
   ]
  },
  {
   "cell_type": "code",
   "execution_count": 84,
   "metadata": {},
   "outputs": [
    {
     "data": {
      "text/plain": [
       "0    3735\n",
       "1    1663\n",
       "2    4384\n",
       "3    7816\n",
       "4    3109\n",
       "5     759\n",
       "6    4962\n",
       "7    8813\n",
       "8    3472\n",
       "9    5022\n",
       "Name: 80, dtype: int32"
      ]
     },
     "execution_count": 84,
     "metadata": {},
     "output_type": "execute_result"
    }
   ],
   "source": [
    "recs = rd_rec.recommendation()\n",
    "recs[80]"
   ]
  },
  {
   "cell_type": "code",
   "execution_count": 88,
   "metadata": {},
   "outputs": [],
   "source": [
    "evl = Evaluator(k=10, training_set=training_ratings, testing_set=testing_ratings)\n",
    "evl.evaluate(rd_rec)"
   ]
  },
  {
   "cell_type": "code",
   "execution_count": 89,
   "metadata": {},
   "outputs": [
    {
     "name": "stdout",
     "output_type": "stream",
     "text": [
      "{'precision': 0.0013224821973550356, 'recall': 0.00099878000317043}\n"
     ]
    }
   ],
   "source": [
    "evl.print_result()"
   ]
  },
  {
   "cell_type": "code",
   "execution_count": 94,
   "metadata": {},
   "outputs": [
    {
     "data": {
      "text/plain": [
       "0.13224821973550355"
      ]
     },
     "execution_count": 94,
     "metadata": {},
     "output_type": "execute_result"
    }
   ],
   "source": [
    "evl.result['precision'] * 100"
   ]
  },
  {
   "cell_type": "code",
   "execution_count": null,
   "metadata": {},
   "outputs": [],
   "source": []
  }
 ],
 "metadata": {
  "kernelspec": {
   "display_name": "Python 3",
   "language": "python",
   "name": "python3"
  },
  "language_info": {
   "codemirror_mode": {
    "name": "ipython",
    "version": 3
   },
   "file_extension": ".py",
   "mimetype": "text/x-python",
   "name": "python",
   "nbconvert_exporter": "python",
   "pygments_lexer": "ipython3",
   "version": "3.6.7"
  }
 },
 "nbformat": 4,
 "nbformat_minor": 2
}
