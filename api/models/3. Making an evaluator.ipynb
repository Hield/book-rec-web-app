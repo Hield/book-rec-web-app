{
 "cells": [
  {
   "cell_type": "code",
   "execution_count": 1,
   "metadata": {},
   "outputs": [],
   "source": [
    "%matplotlib inline\n",
    "%load_ext autoreload\n",
    "%autoreload 2\n",
    "\n",
    "import pandas as pd\n",
    "import numpy as np"
   ]
  },
  {
   "cell_type": "markdown",
   "metadata": {},
   "source": [
    "The project will focus on the top-k recommendation problem, that is the evaluation will only apply to the first k items that our recommender systems suggest."
   ]
  },
  {
   "cell_type": "markdown",
   "metadata": {},
   "source": [
    "It's useful to create some synthetic dataset to test our evaluator. For simplicity, only one user is sufficient."
   ]
  },
  {
   "cell_type": "markdown",
   "metadata": {},
   "source": [
    "We only need a synthetic test dataset since our dummy recommender systems won't have any actual implementation. It's worth noting that the test_ratings will only contain 5-rating, since that's what we will actually do when we split the actual dataset into training set and testing set (get only 5-rating into our testing set). This methodology has been used in most papers. Although later on I'll check back on other methodology as well."
   ]
  },
  {
   "cell_type": "code",
   "execution_count": 2,
   "metadata": {},
   "outputs": [
    {
     "data": {
      "text/html": [
       "<div>\n",
       "<style scoped>\n",
       "    .dataframe tbody tr th:only-of-type {\n",
       "        vertical-align: middle;\n",
       "    }\n",
       "\n",
       "    .dataframe tbody tr th {\n",
       "        vertical-align: top;\n",
       "    }\n",
       "\n",
       "    .dataframe thead th {\n",
       "        text-align: right;\n",
       "    }\n",
       "</style>\n",
       "<table border=\"1\" class=\"dataframe\">\n",
       "  <thead>\n",
       "    <tr style=\"text-align: right;\">\n",
       "      <th></th>\n",
       "      <th>user_id</th>\n",
       "      <th>book_id</th>\n",
       "      <th>rating</th>\n",
       "    </tr>\n",
       "  </thead>\n",
       "  <tbody>\n",
       "    <tr>\n",
       "      <th>0</th>\n",
       "      <td>1</td>\n",
       "      <td>1</td>\n",
       "      <td>5</td>\n",
       "    </tr>\n",
       "    <tr>\n",
       "      <th>1</th>\n",
       "      <td>1</td>\n",
       "      <td>2</td>\n",
       "      <td>5</td>\n",
       "    </tr>\n",
       "    <tr>\n",
       "      <th>2</th>\n",
       "      <td>1</td>\n",
       "      <td>3</td>\n",
       "      <td>5</td>\n",
       "    </tr>\n",
       "    <tr>\n",
       "      <th>3</th>\n",
       "      <td>1</td>\n",
       "      <td>4</td>\n",
       "      <td>5</td>\n",
       "    </tr>\n",
       "  </tbody>\n",
       "</table>\n",
       "</div>"
      ],
      "text/plain": [
       "   user_id  book_id  rating\n",
       "0        1        1       5\n",
       "1        1        2       5\n",
       "2        1        3       5\n",
       "3        1        4       5"
      ]
     },
     "execution_count": 2,
     "metadata": {},
     "output_type": "execute_result"
    }
   ],
   "source": [
    "test_ratings = pd.DataFrame({\n",
    "    'user_id': [1, 1, 1, 1],\n",
    "    'book_id': [1, 2, 3, 4],\n",
    "    'rating': [5, 5, 5, 5]\n",
    "})\n",
    "test_ratings"
   ]
  },
  {
   "cell_type": "markdown",
   "metadata": {},
   "source": [
    "And then our dummy recommender"
   ]
  },
  {
   "cell_type": "markdown",
   "metadata": {},
   "source": [
    "The expected output of our recommender system should be a dataframe linking our user_id to the top-k items that it suggests. For simplicity, k=2 is assumed here, although k=10 will be our main focus."
   ]
  },
  {
   "cell_type": "code",
   "execution_count": 16,
   "metadata": {},
   "outputs": [],
   "source": [
    "class DummyRecommender():\n",
    "    def fit(self, training_set):\n",
    "        pass\n",
    "    \n",
    "    def predict(self):\n",
    "        return pd.DataFrame({\n",
    "            1: [1, 5]\n",
    "        })"
   ]
  },
  {
   "cell_type": "markdown",
   "metadata": {},
   "source": [
    "As we can see, the dummy recommender suggests items 1 and 5"
   ]
  },
  {
   "cell_type": "code",
   "execution_count": 19,
   "metadata": {
    "scrolled": true
   },
   "outputs": [
    {
     "data": {
      "text/html": [
       "<div>\n",
       "<style scoped>\n",
       "    .dataframe tbody tr th:only-of-type {\n",
       "        vertical-align: middle;\n",
       "    }\n",
       "\n",
       "    .dataframe tbody tr th {\n",
       "        vertical-align: top;\n",
       "    }\n",
       "\n",
       "    .dataframe thead th {\n",
       "        text-align: right;\n",
       "    }\n",
       "</style>\n",
       "<table border=\"1\" class=\"dataframe\">\n",
       "  <thead>\n",
       "    <tr style=\"text-align: right;\">\n",
       "      <th></th>\n",
       "      <th>1</th>\n",
       "    </tr>\n",
       "  </thead>\n",
       "  <tbody>\n",
       "    <tr>\n",
       "      <th>0</th>\n",
       "      <td>1</td>\n",
       "    </tr>\n",
       "    <tr>\n",
       "      <th>1</th>\n",
       "      <td>5</td>\n",
       "    </tr>\n",
       "  </tbody>\n",
       "</table>\n",
       "</div>"
      ],
      "text/plain": [
       "   1\n",
       "0  1\n",
       "1  5"
      ]
     },
     "execution_count": 19,
     "metadata": {},
     "output_type": "execute_result"
    }
   ],
   "source": [
    "model = DummyRecommender()\n",
    "model.fit(_)\n",
    "model.predict()"
   ]
  },
  {
   "cell_type": "markdown",
   "metadata": {},
   "source": [
    "Now to our evaluator"
   ]
  },
  {
   "cell_type": "code",
   "execution_count": 67,
   "metadata": {},
   "outputs": [],
   "source": [
    "class Evaluator():\n",
    "    def __init__(self, k=10, training_set=None, testing_set=None):\n",
    "        self.k = k\n",
    "        self.training_set = training_set\n",
    "        self.testing_set = testing_set\n",
    "        self.result = {}\n",
    "    \n",
    "    def _precision(self):\n",
    "        precisions = np.array([])\n",
    "        for user_id in self.preds.columns:\n",
    "            pred = self.preds[user_id]\n",
    "            truth = self.testing_set[self.testing_set.user_id==user_id].book_id\n",
    "            precisions = np.append(precisions, np.in1d(pred, truth).sum() / self.k)\n",
    "        return precisions.mean()\n",
    "    \n",
    "    def _recall(self):\n",
    "        recalls = np.array([])\n",
    "        for user_id in self.preds.columns:\n",
    "            pred = self.preds[user_id]\n",
    "            truth = self.testing_set[self.testing_set.user_id==user_id].book_id\n",
    "            recalls = np.append(recalls, np.in1d(pred, truth).sum() / truth.count())\n",
    "        return recalls.mean()\n",
    "    \n",
    "    def evaluate(self, model):\n",
    "        model.fit(self.training_set)\n",
    "        self.preds = model.predict()\n",
    "        self.result['precision'] = self._precision()\n",
    "        self.result['recall'] = self._recall()\n",
    "        \n",
    "    def print_result(self):\n",
    "        print(self.result)"
   ]
  },
  {
   "cell_type": "markdown",
   "metadata": {},
   "source": [
    "We'll be using precision and recall for now as starters. This project will focus on other metrics which will show more about other qualities instead of simply effectiveness."
   ]
  },
  {
   "cell_type": "markdown",
   "metadata": {},
   "source": [
    "Let's test it on our synthetic testing set"
   ]
  },
  {
   "cell_type": "code",
   "execution_count": 70,
   "metadata": {},
   "outputs": [
    {
     "name": "stdout",
     "output_type": "stream",
     "text": [
      "{'precision': 0.5, 'recall': 0.25}\n"
     ]
    }
   ],
   "source": [
    "evl = Evaluator(k=2, testing_set=test_ratings)\n",
    "evl.evaluate(model)\n",
    "evl.print_result()"
   ]
  },
  {
   "cell_type": "markdown",
   "metadata": {},
   "source": [
    "The dummy prediction is [1, 5]\n",
    "\n",
    "The truth ratings is [1, 2, 3, 4]\n",
    "\n",
    "In the truth array, only item 1 is retrieved by our dummy model => precision = 1 / k = 1 / 2 = 0.5\n",
    "\n",
    "recall = 1 / number of items that the user like = 1 / 4 = 0.25\n",
    "\n",
    "To conclude, our evaluator is working as intended as of now.\n",
    "\n",
    "For the next 2-3 notebooks this evaluator will be copied over to test it (before making it into its own file)"
   ]
  }
 ],
 "metadata": {
  "kernelspec": {
   "display_name": "Python 3",
   "language": "python",
   "name": "python3"
  },
  "language_info": {
   "codemirror_mode": {
    "name": "ipython",
    "version": 3
   },
   "file_extension": ".py",
   "mimetype": "text/x-python",
   "name": "python",
   "nbconvert_exporter": "python",
   "pygments_lexer": "ipython3",
   "version": "3.6.7"
  }
 },
 "nbformat": 4,
 "nbformat_minor": 2
}
